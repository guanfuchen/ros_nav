{
 "cells": [
  {
   "cell_type": "code",
   "execution_count": 1,
   "metadata": {},
   "outputs": [],
   "source": [
    "import rospy\n",
    "import tf"
   ]
  },
  {
   "cell_type": "code",
   "execution_count": 2,
   "metadata": {},
   "outputs": [],
   "source": [
    "# tf.TransformBroadcaster.sendTransform?"
   ]
  },
  {
   "cell_type": "code",
   "execution_count": 3,
   "metadata": {},
   "outputs": [],
   "source": [
    "def transform_broadcaster():\n",
    "    rospy.init_node('transform_broadcaster', anonymous=True)\n",
    "    \n",
    "    tf_broadcaster = tf.TransformBroadcaster()\n",
    "    \n",
    "    rate = rospy.Rate(10) # 10赫兹\n",
    "    while not rospy.is_shutdown():\n",
    "        hello_str = 'hello'\n",
    "#         rospy.loginfo(hello_str)\n",
    "        tf_broadcaster.sendTransform(translation=(1, 0, 0), rotation=(0, 0, 0, 1.0), time=rospy.Time.now(), child='base_laser', parent='base_link')\n",
    "#         tf_broadcaster.sendTransform(translation=(0, 0, 0), rotation=(0, 0, 0, 1.0), time=rospy.Time.now(), child='odom', parent='map')\n",
    "        rate.sleep()"
   ]
  },
  {
   "cell_type": "code",
   "execution_count": 4,
   "metadata": {},
   "outputs": [],
   "source": [
    "transform_broadcaster()"
   ]
  }
 ],
 "metadata": {
  "kernelspec": {
   "display_name": "Python 2",
   "language": "python",
   "name": "python2"
  },
  "language_info": {
   "codemirror_mode": {
    "name": "ipython",
    "version": 2
   },
   "file_extension": ".py",
   "mimetype": "text/x-python",
   "name": "python",
   "nbconvert_exporter": "python",
   "pygments_lexer": "ipython2",
   "version": "2.7.6"
  }
 },
 "nbformat": 4,
 "nbformat_minor": 2
}
