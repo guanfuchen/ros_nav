{
 "cells": [
  {
   "cell_type": "code",
   "execution_count": 1,
   "metadata": {},
   "outputs": [],
   "source": [
    "import rospy\n",
    "from std_msgs.msg import String\n",
    "from move_base_msgs.msg import MoveBaseGoal, MoveBaseAction\n",
    "import actionlib\n",
    "from geometry_msgs.msg import Pose, Point, Quaternion, Twist\n",
    "from tf.transformations import quaternion_from_euler"
   ]
  },
  {
   "cell_type": "markdown",
   "metadata": {},
   "source": [
    "# MoveBaseGoal\n",
    "\n",
    "---\n",
    "## 参考资料\n",
    "\n",
    "[move_base_square.py](https://github.com/pirobot/ros-by-example/blob/master/rbx_vol_1/rbx1_nav/nodes/move_base_square.py)\n"
   ]
  },
  {
   "cell_type": "code",
   "execution_count": 2,
   "metadata": {},
   "outputs": [],
   "source": [
    "# rospy.Publisher?"
   ]
  },
  {
   "cell_type": "code",
   "execution_count": 3,
   "metadata": {},
   "outputs": [],
   "source": [
    "def publisher():\n",
    "    rospy.init_node('goal_publisher', anonymous=True)\n",
    "    move_base = actionlib.SimpleActionClient(\"move_base\", MoveBaseAction)\n",
    "    move_base.wait_for_server(rospy.Duration(60))\n",
    "    rate = rospy.Rate(10) # 10赫兹\n",
    "    goal = MoveBaseGoal()\n",
    "    # Use the map frame to define goal poses\n",
    "    goal.target_pose.header.frame_id = 'map'\n",
    "\n",
    "    # Set the time stamp to \"now\"\n",
    "    goal.target_pose.header.stamp = rospy.Time.now()\n",
    "\n",
    "    # Set the goal pose to the i-th waypoint\n",
    "    \n",
    "    euler_angle = 0 # pi/2\n",
    "    q_angle = quaternion_from_euler(0, 0, euler_angle, axes='sxyz')\n",
    "    q = Quaternion(*q_angle)\n",
    "    pose = Pose(Point(1.0, 0.0, 0.0), q)\n",
    "\n",
    "    goal.target_pose.pose = pose\n",
    "\n",
    "    move_base.send_goal(goal)\n",
    "    rate.sleep()\n",
    "#     while not rospy.is_shutdown():\n",
    "#         hello_str = 'hello'\n",
    "# #         rospy.loginfo(hello_str)\n",
    "#         pub.publish(hello_str)\n",
    "#         rate.sleep()\n",
    "publisher()"
   ]
  },
  {
   "cell_type": "code",
   "execution_count": null,
   "metadata": {},
   "outputs": [],
   "source": []
  }
 ],
 "metadata": {
  "kernelspec": {
   "display_name": "Python 2",
   "language": "python",
   "name": "python2"
  },
  "language_info": {
   "codemirror_mode": {
    "name": "ipython",
    "version": 2
   },
   "file_extension": ".py",
   "mimetype": "text/x-python",
   "name": "python",
   "nbconvert_exporter": "python",
   "pygments_lexer": "ipython2",
   "version": "2.7.6"
  }
 },
 "nbformat": 4,
 "nbformat_minor": 2
}
