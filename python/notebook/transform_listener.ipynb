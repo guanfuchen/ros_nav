{
 "cells": [
  {
   "cell_type": "code",
   "execution_count": 1,
   "metadata": {},
   "outputs": [],
   "source": [
    "import rospy\n",
    "import tf"
   ]
  },
  {
   "cell_type": "code",
   "execution_count": 2,
   "metadata": {},
   "outputs": [],
   "source": [
    "# tf.TransformListener.lookupTransform?"
   ]
  },
  {
   "cell_type": "code",
   "execution_count": 3,
   "metadata": {},
   "outputs": [],
   "source": [
    "def transform_listener():\n",
    "    rospy.init_node('transform_listener', anonymous=True)\n",
    "    \n",
    "    tf_listener = tf.TransformListener()\n",
    "    \n",
    "    rate = rospy.Rate(10) # 10赫兹\n",
    "    while not rospy.is_shutdown():\n",
    "        hello_str = 'hello'\n",
    "#         rospy.loginfo(hello_str)\n",
    "        try:\n",
    "            translation, rotation = tf_listener.lookupTransform(target_frame='/base_laser', source_frame='/base_link', time=rospy.Time(0))\n",
    "        except (tf.LookupException, tf.ConnectivityException, tf.ExtrapolationException):\n",
    "            continue\n",
    "#         print('translation:', translation)\n",
    "#         print('rotation:', rotation)\n",
    "        rate.sleep()"
   ]
  },
  {
   "cell_type": "code",
   "execution_count": 4,
   "metadata": {},
   "outputs": [],
   "source": [
    "transform_listener()"
   ]
  }
 ],
 "metadata": {
  "kernelspec": {
   "display_name": "Python 2",
   "language": "python",
   "name": "python2"
  },
  "language_info": {
   "codemirror_mode": {
    "name": "ipython",
    "version": 2
   },
   "file_extension": ".py",
   "mimetype": "text/x-python",
   "name": "python",
   "nbconvert_exporter": "python",
   "pygments_lexer": "ipython2",
   "version": "2.7.6"
  }
 },
 "nbformat": 4,
 "nbformat_minor": 2
}
